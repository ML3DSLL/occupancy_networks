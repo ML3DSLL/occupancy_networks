{
 "cells": [
  {
   "cell_type": "code",
   "execution_count": 12,
   "metadata": {},
   "outputs": [],
   "source": [
    "import torch\n",
    "from torch import nn\n",
    "from torchvision import models\n",
    "\n",
    "c_dim = 256\n",
    "m = models.convnext_tiny(from_pretrained=True)\n",
    "m.classifier = nn.Sequential()\n",
    "m.fc = torch.nn.Linear(768, c_dim)"
   ]
  },
  {
   "cell_type": "code",
   "execution_count": 27,
   "metadata": {},
   "outputs": [],
   "source": [
    "class ConvNeXt(nn.Module):\n",
    "    def __init__(self, c_dim):\n",
    "        super().__init__()\n",
    "        self.m = models.convnext_tiny(from_pretrained=True)\n",
    "        self.m.classifier = nn.Sequential()\n",
    "        self.fc = torch.nn.Linear(768, c_dim)\n",
    "\n",
    "    def forward(self, x):\n",
    "        x = self.m(x)\n",
    "        x = self.fc(x.reshape((-1, 768)))\n",
    "        return x"
   ]
  },
  {
   "cell_type": "code",
   "execution_count": 43,
   "metadata": {},
   "outputs": [
    {
     "data": {
      "text/plain": [
       "torch.Size([1, 256])"
      ]
     },
     "execution_count": 43,
     "metadata": {},
     "output_type": "execute_result"
    }
   ],
   "source": [
    "class FPConvNeXt(nn.Module):\n",
    "    def __init__(self, c_dim):\n",
    "        super().__init__()\n",
    "        self.conv1 = nn.Conv2d(3, 3, kernel_size=4, stride=2, padding=1)\n",
    "        self.conv2 = nn.Conv2d(3, 3, kernel_size=4, stride=2, padding=1)\n",
    "\n",
    "        self.up1 = nn.ConvTranspose2d(3, 3, kernel_size=4, stride=2, padding=1)\n",
    "        self.up2 = nn.ConvTranspose2d(3, 3, kernel_size=4, stride=2, padding=1)\n",
    "\n",
    "        self.path0 = nn.Conv2d(3, 3, kernel_size=1)\n",
    "        self.path1 = nn.Conv2d(3, 3, kernel_size=1)\n",
    "\n",
    "        self.enc0 = ConvNeXt(c_dim)\n",
    "        self.enc1 = ConvNeXt(c_dim)\n",
    "        self.enc2 = ConvNeXt(c_dim)\n",
    "\n",
    "        self.pool = nn.AvgPool1d(3)\n",
    "\n",
    "    def forward(self, x):\n",
    "        x0 = x\n",
    "        x1 = self.conv1(x0)\n",
    "        x2 = self.conv2(x1)\n",
    "\n",
    "        x1 = self.up2(x2) + self.path1(x1)\n",
    "        x0 = self.up1(x1) + self.path0(x0)\n",
    "\n",
    "        x2 = self.enc2(x2)\n",
    "        x1 = self.enc1(x1)\n",
    "        x0 = self.enc0(x0)\n",
    "\n",
    "        x = torch.concat([x0.unsqueeze(2), x1.unsqueeze(2), x2.unsqueeze(2)], dim=2)\n",
    "        x = self.pool(x).squeeze(2)\n",
    "\n",
    "        return x\n",
    "\n",
    "\n",
    "f = FPConvNeXt(c_dim)\n",
    "f(torch.rand(1, 3, 224, 224)).shape"
   ]
  },
  {
   "cell_type": "code",
   "execution_count": 24,
   "metadata": {},
   "outputs": [
    {
     "data": {
      "text/plain": [
       "28015456"
      ]
     },
     "execution_count": 24,
     "metadata": {},
     "output_type": "execute_result"
    }
   ],
   "source": [
    "sum(p.numel() for p in m.parameters())"
   ]
  },
  {
   "cell_type": "code",
   "execution_count": 20,
   "metadata": {},
   "outputs": [
    {
     "data": {
      "text/plain": [
       "torch.Size([1, 768, 1, 1])"
      ]
     },
     "execution_count": 20,
     "metadata": {},
     "output_type": "execute_result"
    }
   ],
   "source": [
    "m(torch.zeros([1, 3, 224 // 4, 224 // 4])).shape"
   ]
  },
  {
   "cell_type": "code",
   "execution_count": 17,
   "metadata": {},
   "outputs": [
    {
     "data": {
      "text/plain": [
       "torch.Size([1, 256])"
      ]
     },
     "execution_count": 17,
     "metadata": {},
     "output_type": "execute_result"
    }
   ],
   "source": [
    "x = m.fc(m(torch.zeros([1, 3, 224 // 2, 224 // 2])).reshape(-1, 768))\n",
    "x.shape"
   ]
  }
 ],
 "metadata": {
  "kernelspec": {
   "display_name": "i2dl",
   "language": "python",
   "name": "python3"
  },
  "language_info": {
   "codemirror_mode": {
    "name": "ipython",
    "version": 3
   },
   "file_extension": ".py",
   "mimetype": "text/x-python",
   "name": "python",
   "nbconvert_exporter": "python",
   "pygments_lexer": "ipython3",
   "version": "3.10.13"
  }
 },
 "nbformat": 4,
 "nbformat_minor": 2
}
